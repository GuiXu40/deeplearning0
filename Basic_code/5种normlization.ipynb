{
  "nbformat": 4,
  "nbformat_minor": 0,
  "metadata": {
    "colab": {
      "provenance": [],
      "authorship_tag": "ABX9TyMZmCsx7gTpELjTUuZyN2xv",
      "include_colab_link": true
    },
    "kernelspec": {
      "name": "python3",
      "display_name": "Python 3"
    },
    "language_info": {
      "name": "python"
    }
  },
  "cells": [
    {
      "cell_type": "markdown",
      "metadata": {
        "id": "view-in-github",
        "colab_type": "text"
      },
      "source": [
        "<a href=\"https://colab.research.google.com/github/GuiXu40/deeplearning0/blob/main/Basic_code/5%E7%A7%8Dnormlization.ipynb\" target=\"_parent\"><img src=\"https://colab.research.google.com/assets/colab-badge.svg\" alt=\"Open In Colab\"/></a>"
      ]
    },
    {
      "cell_type": "code",
      "execution_count": 1,
      "metadata": {
        "id": "3QtHraVMWHHq"
      },
      "outputs": [],
      "source": [
        "import torch \n",
        "import torch.nn as nn"
      ]
    },
    {
      "cell_type": "code",
      "source": [
        "batch_size = 2\n",
        "time_step = 3\n",
        "embedding_dim = 4\n",
        "inputx = torch.rand(batch_size, time_step, embedding_dim)\n",
        "print(inputx)"
      ],
      "metadata": {
        "colab": {
          "base_uri": "https://localhost:8080/"
        },
        "id": "S7vhktNUWRbG",
        "outputId": "6cdb65fd-9171-4e0c-c14a-7e48db699c5b"
      },
      "execution_count": 7,
      "outputs": [
        {
          "output_type": "stream",
          "name": "stdout",
          "text": [
            "tensor([[[0.9074, 0.7389, 0.1134, 0.2540],\n",
            "         [0.1806, 0.7422, 0.6703, 0.6680],\n",
            "         [0.7230, 0.1485, 0.3611, 0.1365]],\n",
            "\n",
            "        [[0.1661, 0.8307, 0.4534, 0.3597],\n",
            "         [0.6753, 0.0251, 0.8871, 0.5333],\n",
            "         [0.6172, 0.2389, 0.6213, 0.9127]]])\n"
          ]
        }
      ]
    },
    {
      "cell_type": "code",
      "source": [
        "# 1. batch_nrom 验证API\n",
        "# NLP: [N, L, C] -> [C]\n",
        "#CV: [N, C, H, W] -> [C]\n",
        "## 调用 batch_norm API \n",
        "batch_norm_op = torch.nn.BatchNorm1d(embedding_dim, affine=False)\n",
        "bn_y = batch_norm_op(inputx.transpose(-1, -2)).transpose(-1, -2)\n",
        "\n",
        "## 手写 batch_norm\n",
        "bn_mean2 = inputx.mean(dim=(0, 1)) #(3x4)\n",
        "\n",
        "print(bn_mean2)\n",
        "\n",
        "\n",
        "bn_mean = inputx.mean(dim=(0, 1), keepdim=True)\n",
        "bn_std = inputx.std(dim=(0, 1), unbiased=False, keepdim=True)\n",
        "verify_bn_y = (inputx - bn_mean) / (bn_std+1e-5)\n",
        "\n",
        "print(bn_y)\n",
        "print(bn_y.shape)\n",
        "print(verify_bn_y)"
      ],
      "metadata": {
        "colab": {
          "base_uri": "https://localhost:8080/"
        },
        "id": "CBWKvPdFWa7q",
        "outputId": "ee148fef-5b77-4284-e8fc-a000af367919"
      },
      "execution_count": 13,
      "outputs": [
        {
          "output_type": "stream",
          "name": "stdout",
          "text": [
            "tensor([0.5449, 0.4541, 0.5178, 0.4774])\n",
            "tensor([[[ 1.3067,  0.8793, -1.6447, -0.8555],\n",
            "         [-1.3136,  0.8894,  0.6204,  0.7301],\n",
            "         [ 0.6421, -0.9431, -0.6374, -1.3056]],\n",
            "\n",
            "        [[-1.3657,  1.1626, -0.2617, -0.4508],\n",
            "         [ 0.4701, -1.3240,  1.5024,  0.2143],\n",
            "         [ 0.2605, -0.6642,  0.4210,  1.6675]]])\n",
            "torch.Size([2, 3, 4])\n",
            "tensor([[[ 1.3068,  0.8793, -1.6448, -0.8555],\n",
            "         [-1.3136,  0.8894,  0.6204,  0.7301],\n",
            "         [ 0.6421, -0.9431, -0.6375, -1.3056]],\n",
            "\n",
            "        [[-1.3657,  1.1626, -0.2617, -0.4508],\n",
            "         [ 0.4701, -1.3240,  1.5024,  0.2143],\n",
            "         [ 0.2605, -0.6642,  0.4211,  1.6675]]])\n"
          ]
        }
      ]
    },
    {
      "cell_type": "code",
      "source": [
        "# 2. 实现 layer_norm 并验证API\n",
        "# NLP: [N, L, C] -> [N, L]\n",
        "#CV: [N, C, H, W] -> [N, H, W]\n",
        "layer_norm_op = torch.nn.LayerNorm(embedding_dim, elementwise_affine=False)\n",
        "ln_y = layer_norm_op(inputx)\n",
        "ln_mean = inputx.mean(dim=-1, keepdim=True)\n",
        "ln_std = inputx.std(dim=-1, keepdim=True, unbiased=False)\n",
        "verify_ln_y = (inputx - ln_mean) / (ln_std+1e-5)\n",
        "print(ln_y)\n",
        "print(verify_ln_y)"
      ],
      "metadata": {
        "colab": {
          "base_uri": "https://localhost:8080/"
        },
        "id": "cx8JGm8zkLnS",
        "outputId": "cdb4cd11-e685-4beb-e44e-c2d638f99421"
      },
      "execution_count": 15,
      "outputs": [
        {
          "output_type": "stream",
          "name": "stdout",
          "text": [
            "tensor([[[ 1.2277,  0.7158, -1.1854, -0.7581],\n",
            "         [-1.7164,  0.7896,  0.4686,  0.4583],\n",
            "         [ 1.6045, -0.8165,  0.0791, -0.8672]],\n",
            "\n",
            "        [[-1.1847,  1.5647,  0.0039, -0.3840],\n",
            "         [ 0.4568, -1.5901,  1.1235,  0.0098],\n",
            "         [ 0.0821, -1.4990,  0.0993,  1.3175]]])\n",
            "tensor([[[ 1.2277,  0.7158, -1.1854, -0.7582],\n",
            "         [-1.7165,  0.7896,  0.4686,  0.4584],\n",
            "         [ 1.6046, -0.8165,  0.0792, -0.8672]],\n",
            "\n",
            "        [[-1.1847,  1.5648,  0.0039, -0.3840],\n",
            "         [ 0.4568, -1.5902,  1.1236,  0.0098],\n",
            "         [ 0.0821, -1.4990,  0.0993,  1.3176]]])\n"
          ]
        }
      ]
    },
    {
      "cell_type": "code",
      "source": [
        "# 3. 实现 Instance_norm 并验证API\n",
        "# NLP: [N, L, C] -> [N, C]\n",
        "#CV: [N, C, H, W] -> [N, C]\n",
        "Ins_norm_op = torch.nn.InstanceNorm1d(embedding_dim)\n",
        "Ins_y = Ins_norm_op(inputx.transpose(-1, -2)).transpose(-1, -2)\n",
        "Ins_mean = inputx.mean(dim=1, keepdim=True)\n",
        "Ins_std = inputx.std(dim=1, keepdim=True, unbiased=False)\n",
        "verify_Ins_y = (inputx - Ins_mean) / (Ins_std+1e-5)\n",
        "print(Ins_y)\n",
        "print(verify_Ins_y)"
      ],
      "metadata": {
        "colab": {
          "base_uri": "https://localhost:8080/"
        },
        "id": "EkMjmfScmJ-d",
        "outputId": "1735f106-88c3-4d38-d2e2-e526de260805"
      },
      "execution_count": 17,
      "outputs": [
        {
          "output_type": "stream",
          "name": "stdout",
          "text": [
            "tensor([[[ 0.9845,  0.7012, -1.1771, -0.4335],\n",
            "         [-1.3714,  0.7129,  1.2672,  1.3824],\n",
            "         [ 0.3869, -1.4141, -0.0901, -0.9489]],\n",
            "\n",
            "        [[-1.4064,  1.3670, -1.1228, -1.0489],\n",
            "         [ 0.8309, -0.9971,  1.3057, -0.2969],\n",
            "         [ 0.5754, -0.3698, -0.1829,  1.3458]]])\n",
            "tensor([[[ 0.9845,  0.7012, -1.1771, -0.4335],\n",
            "         [-1.3714,  0.7129,  1.2673,  1.3825],\n",
            "         [ 0.3869, -1.4141, -0.0901, -0.9490]],\n",
            "\n",
            "        [[-1.4064,  1.3670, -1.1229, -1.0489],\n",
            "         [ 0.8310, -0.9972,  1.3059, -0.2969],\n",
            "         [ 0.5755, -0.3699, -0.1829,  1.3459]]])\n"
          ]
        }
      ]
    },
    {
      "cell_type": "code",
      "source": [],
      "metadata": {
        "id": "NamHh83Bk8B1"
      },
      "execution_count": null,
      "outputs": []
    },
    {
      "cell_type": "code",
      "source": [
        "# 4. gruop Normalization\n",
        "# NLP: [N,G, L, C//G] -> [N, G]\n",
        "#CV: [N, G, C//G, H, W] -> [N, G]\n",
        "num_groups = 2\n",
        "group_norm_op = torch.nn.GroupNorm(num_groups, embedding_dim, affine=False)\n",
        "gn_y =  group_norm_op(inputx.transpose(-1, -2)).transpose(-1, -2)\n",
        "\n",
        "group_inputxs = torch.split(inputx, split_size_or_sections=embedding_dim // num_groups, dim=-1)\n",
        "results = []\n",
        "for g_inputxs in group_inputxs:\n",
        "  gn_mean = g_inputxs.mean(dim=(1, 2), keepdim=True)\n",
        "  gn_std = g_inputxs.std(dim=(1, 2), keepdim=True, unbiased=False)\n",
        "  gn_result = (g_inputxs-gn_mean) / (gn_std + 1e-5)\n",
        "  results.append(gn_result)\n",
        "verify_gn_y = torch.cat(results, dim=-1)\n",
        "print(gn_y)\n",
        "print(verify_gn_y)"
      ],
      "metadata": {
        "colab": {
          "base_uri": "https://localhost:8080/"
        },
        "id": "l7on9_TknrAO",
        "outputId": "b6d078e5-ee1b-4def-9ada-c2cef9642332"
      },
      "execution_count": 19,
      "outputs": [
        {
          "output_type": "stream",
          "name": "stdout",
          "text": [
            "tensor([[[ 1.1292,  0.5597, -1.1113, -0.4958],\n",
            "         [-1.3285,  0.5707,  1.3272,  1.3172],\n",
            "         [ 0.5058, -1.4368, -0.0269, -1.0104]],\n",
            "\n",
            "        [[-0.8764,  1.3687, -0.8386, -1.2893],\n",
            "         [ 0.8436, -1.3526,  1.2457, -0.4546],\n",
            "         [ 0.6472, -0.6306, -0.0320,  1.3688]]])\n",
            "tensor([[[ 1.1292,  0.5597, -1.1114, -0.4958],\n",
            "         [-1.3286,  0.5707,  1.3273,  1.3173],\n",
            "         [ 0.5058, -1.4369, -0.0269, -1.0104]],\n",
            "\n",
            "        [[-0.8764,  1.3687, -0.8387, -1.2894],\n",
            "         [ 0.8437, -1.3527,  1.2458, -0.4547],\n",
            "         [ 0.6473, -0.6306, -0.0320,  1.3689]]])\n"
          ]
        }
      ]
    },
    {
      "cell_type": "code",
      "source": [
        "linear = nn.Linear(embedding_dim, 3, bias=False)\n",
        "wn_linear = torch.nn.utils.weight_norm(linear)\n",
        "wn_linear_output = wn_linear(inputx)\n",
        "\n",
        "weight_direction = linear.weight/(linear.weight.norm(dim=1, keepdim=True))\n",
        "weight_magnitude = wn_linear.weight_g\n",
        "verify_wn_linear_output = inputx @ (weight_direction.transpose(-1, -2)) * (weight_magnitude.transpose(-1, -2))\n",
        "print(wn_linear_output)\n",
        "print(verify_wn_linear_output)"
      ],
      "metadata": {
        "colab": {
          "base_uri": "https://localhost:8080/"
        },
        "id": "0KXS1-WsshRy",
        "outputId": "ce534d59-839f-49a4-89b1-1e81018ff578"
      },
      "execution_count": 20,
      "outputs": [
        {
          "output_type": "stream",
          "name": "stdout",
          "text": [
            "tensor([[[ 0.4367,  0.2618,  0.5106],\n",
            "         [ 0.3386, -0.0457,  0.3249],\n",
            "         [ 0.1599,  0.1467,  0.2196]],\n",
            "\n",
            "        [[ 0.3504,  0.1031,  0.3616],\n",
            "         [ 0.1173, -0.0453,  0.1445],\n",
            "         [ 0.2427, -0.1977,  0.2297]]], grad_fn=<UnsafeViewBackward0>)\n",
            "tensor([[[ 0.4367,  0.2618,  0.5106],\n",
            "         [ 0.3386, -0.0457,  0.3249],\n",
            "         [ 0.1599,  0.1467,  0.2196]],\n",
            "\n",
            "        [[ 0.3504,  0.1031,  0.3616],\n",
            "         [ 0.1173, -0.0453,  0.1445],\n",
            "         [ 0.2427, -0.1977,  0.2297]]], grad_fn=<MulBackward0>)\n"
          ]
        }
      ]
    }
  ]
}